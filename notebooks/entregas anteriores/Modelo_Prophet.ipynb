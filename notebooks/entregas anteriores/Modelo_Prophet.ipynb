{
 "cells": [
  {
   "cell_type": "markdown",
   "metadata": {},
   "source": [
    "## Importando bibliotecas"
   ]
  },
  {
   "cell_type": "code",
   "execution_count": null,
   "metadata": {},
   "outputs": [],
   "source": [
    "from datetime import datetime\n",
    "from sklearn.model_selection import train_test_split\n",
    "from prophet import Prophet\n",
    "import numpy as np\n",
    "from sklearn.metrics import mean_absolute_error, mean_squared_error"
   ]
  },
  {
   "cell_type": "markdown",
   "metadata": {},
   "source": [
    "## Puxando Dataframe"
   ]
  },
  {
   "cell_type": "code",
   "execution_count": null,
   "metadata": {},
   "outputs": [],
   "source": [
    "%run Pre_Processamento.ipynb"
   ]
  },
  {
   "cell_type": "code",
   "execution_count": null,
   "metadata": {},
   "outputs": [],
   "source": [
    "%store -r df_1"
   ]
  },
  {
   "cell_type": "code",
   "execution_count": null,
   "metadata": {},
   "outputs": [],
   "source": [
    "df = df_1\n",
    "df"
   ]
  },
  {
   "cell_type": "markdown",
   "metadata": {},
   "source": [
    "## Preparação dos Dados"
   ]
  },
  {
   "cell_type": "markdown",
   "metadata": {},
   "source": [
    "Nesta etapa, os dados foram divididos em duas versões distintas para testar e comparar os resultados do modelo sob diferentes condições:"
   ]
  },
  {
   "cell_type": "markdown",
   "metadata": {},
   "source": [
    "Ajustando o nome da variavel items sold para \"y\" que será a Target do modelo Prophet."
   ]
  },
  {
   "cell_type": "code",
   "execution_count": null,
   "metadata": {},
   "outputs": [],
   "source": [
    "df = df.rename(columns={'items_sold': 'y'})"
   ]
  },
  {
   "cell_type": "code",
   "execution_count": null,
   "metadata": {},
   "outputs": [],
   "source": [
    "df = df.rename(columns={'date': 'ds'})"
   ]
  },
  {
   "cell_type": "markdown",
   "metadata": {},
   "source": [
    "Ordenando as datas de forma temporal e deixando no formato 'date' "
   ]
  },
  {
   "cell_type": "code",
   "execution_count": null,
   "metadata": {},
   "outputs": [],
   "source": [
    "df = df.sort_values(by='ds')"
   ]
  },
  {
   "cell_type": "code",
   "execution_count": null,
   "metadata": {},
   "outputs": [],
   "source": [
    "df['ds'] = pd.to_datetime(df['ds']).dt.date"
   ]
  },
  {
   "cell_type": "markdown",
   "metadata": {},
   "source": [
    "##### Remoção de Outliers (``df1``):"
   ]
  },
  {
   "cell_type": "markdown",
   "metadata": {},
   "source": [
    "A partir do método IQR (Interquartile Range), outliers são identificados e removidos do dataset. Esta medida de dispersão estatística proporciona a amplitude interquartil, facilitando a detecção e filtragem de valores extremos. A aplicação desse método resultou em uma redução aproximada de 9% nos registros originais."
   ]
  },
  {
   "cell_type": "code",
   "execution_count": null,
   "metadata": {},
   "outputs": [],
   "source": [
    "q1 = df['y'].quantile(0.25)\n",
    "q3 = df['y'].quantile(0.75)\n",
    "\n",
    "iqr = q3 - q1\n",
    "\n",
    "lower_bound = q1 - 1.5 * iqr\n",
    "upper_bound = q3 + 1.5 * iqr\n",
    "\n",
    "df1 = df[(df['y'] >= lower_bound) & (df['y'] <= upper_bound)]"
   ]
  },
  {
   "cell_type": "code",
   "execution_count": null,
   "metadata": {},
   "outputs": [],
   "source": [
    "df.columns"
   ]
  },
  {
   "cell_type": "markdown",
   "metadata": {},
   "source": [
    "##### Retirada da Black Friday (``df2``):"
   ]
  },
  {
   "cell_type": "markdown",
   "metadata": {},
   "source": [
    "Nesta estratégia, semanas relacionadas à Black Friday e início de dezembro são excluídas, dado que tradicionalmente apresentam padrões atípicos de vendas."
   ]
  },
  {
   "cell_type": "code",
   "execution_count": null,
   "metadata": {},
   "outputs": [],
   "source": [
    "df2 = df.drop(df[df['semana_do_ano'].isin([46, 47, 48, 49])].index)"
   ]
  },
  {
   "cell_type": "markdown",
   "metadata": {},
   "source": [
    ">Posteriormente, os dados foram divididos em conjuntos de treino e teste utilizando uma proporção de 70% para treino e 30% para teste."
   ]
  },
  {
   "cell_type": "code",
   "execution_count": null,
   "metadata": {},
   "outputs": [],
   "source": [
    "train_df1, test_df1 = train_test_split(df1, test_size=0.3, shuffle=False)"
   ]
  },
  {
   "cell_type": "code",
   "execution_count": null,
   "metadata": {},
   "outputs": [],
   "source": [
    "train_df2, test_df2 = train_test_split(df2, test_size=0.3, shuffle=False)"
   ]
  },
  {
   "cell_type": "markdown",
   "metadata": {},
   "source": [
    "## Aplicando o Modelo Prophet"
   ]
  },
  {
   "cell_type": "markdown",
   "metadata": {},
   "source": [
    "### Treinamento sem Outliers"
   ]
  },
  {
   "cell_type": "markdown",
   "metadata": {},
   "source": [
    "Treinamento com os conjuntos de treino"
   ]
  },
  {
   "cell_type": "code",
   "execution_count": null,
   "metadata": {},
   "outputs": [],
   "source": [
    "model = Prophet(daily_seasonality=True, interval_width=0.95)\n",
    "model.fit(train_df1)"
   ]
  },
  {
   "cell_type": "code",
   "execution_count": null,
   "metadata": {},
   "outputs": [],
   "source": [
    "future = model.make_future_dataframe(periods=len(test_df1),freq=\"H\", include_history=False)\n",
    "forecast = model.predict(future)"
   ]
  },
  {
   "cell_type": "code",
   "execution_count": null,
   "metadata": {},
   "outputs": [],
   "source": [
    "merged = forecast.set_index('ds')[['yhat']].join(test_df1.set_index('ds'))"
   ]
  },
  {
   "cell_type": "code",
   "execution_count": null,
   "metadata": {},
   "outputs": [],
   "source": [
    "merged = merged.dropna(subset=['y', 'yhat'])"
   ]
  },
  {
   "cell_type": "code",
   "execution_count": null,
   "metadata": {},
   "outputs": [],
   "source": [
    "import numpy as np\n",
    "\n",
    "y_true = merged['y']\n",
    "y_pred = merged['yhat']\n",
    "\n",
    "mse = mean_squared_error(y_true, y_pred)\n",
    "rmse = np.sqrt(mse)\n",
    "mae = mean_absolute_error(y_true, y_pred)\n",
    "mse2 = mean_squared_error(y_true, y_pred)\n",
    "\n",
    "print(f\"Erro Quadrático Médio (MSE): {mse2}\")\n",
    "print(f\"Raiz do Erro Quadrático Médio (RMSE): {rmse}\")\n",
    "print(f\"Erro Médio Absoluto (MAE): {mae}\")"
   ]
  },
  {
   "cell_type": "markdown",
   "metadata": {},
   "source": [
    "Os resultados obtidos são:\n",
    "\n",
    "- Erro Médio Absoluto (MAE): 1.2980862188511293\n",
    "- Erro Quadrático Médio (MSE): 2.804723476895441\n",
    "- Raiz do Erro Quadrático Médio (RMSE): 1.674730867003842"
   ]
  },
  {
   "cell_type": "markdown",
   "metadata": {},
   "source": [
    "| Métrica                               | Valor                  |\n",
    "|---------------------------------------|------------------------|\n",
    "| Erro Médio Absoluto (MAE)             | 1.2980862188511293    |\n",
    "| Erro Quadrático Médio (MSE)           | 2.804723476895441      |\n",
    "| Raiz do Erro Quadrático Médio (RMSE)  | 1.674730867003842      |"
   ]
  },
  {
   "cell_type": "markdown",
   "metadata": {},
   "source": [
    "### Treinamento sem Semanas da Black Friday"
   ]
  },
  {
   "cell_type": "markdown",
   "metadata": {},
   "source": [
    "Nesta fase, o modelo é treinado com os dados onde semanas específicas foram excluídas."
   ]
  },
  {
   "cell_type": "code",
   "execution_count": null,
   "metadata": {},
   "outputs": [],
   "source": [
    "model = Prophet(daily_seasonality=True, interval_width=0.95)\n",
    "model.fit(train_df2)"
   ]
  },
  {
   "cell_type": "code",
   "execution_count": null,
   "metadata": {},
   "outputs": [],
   "source": [
    "future = model.make_future_dataframe(periods=len(test_df2),freq=\"H\", include_history=False)\n",
    "forecast = model.predict(future)"
   ]
  },
  {
   "cell_type": "code",
   "execution_count": null,
   "metadata": {},
   "outputs": [],
   "source": [
    "merged = forecast.set_index('ds')[['yhat']].join(test_df2.set_index('ds'))"
   ]
  },
  {
   "cell_type": "code",
   "execution_count": null,
   "metadata": {},
   "outputs": [],
   "source": [
    "merged = merged.dropna(subset=['y', 'yhat'])"
   ]
  },
  {
   "cell_type": "code",
   "execution_count": null,
   "metadata": {},
   "outputs": [],
   "source": [
    "import numpy as np\n",
    "\n",
    "y_true = merged['y']\n",
    "y_pred = merged['yhat']\n",
    "\n",
    "mse = mean_squared_error(y_true, y_pred)\n",
    "rmse = np.sqrt(mse)\n",
    "mae = mean_absolute_error(y_true, y_pred)\n",
    "mse2 = mean_squared_error(y_true, y_pred)\n",
    "\n",
    "print(f\"Erro Quadrático Médio (MSE): {mse2}\")\n",
    "print(f\"Raiz do Erro Quadrático Médio (RMSE): {rmse}\")\n",
    "print(f\"Erro Médio Absoluto (MAE): {mae}\")"
   ]
  },
  {
   "cell_type": "markdown",
   "metadata": {},
   "source": [
    "| Métrica                               | Valor                  |\n",
    "|---------------------------------------|------------------------|\n",
    "| Erro Médio Absoluto (MAE)             | 2.4319854207131555   |\n",
    "| Erro Quadrático Médio (MSE)           | 20.95493097722733     |\n",
    "| Raiz do Erro Quadrático Médio (RMSE)  | 4.577655620208595     |"
   ]
  },
  {
   "cell_type": "markdown",
   "metadata": {},
   "source": [
    "## Discussão dos Resultados"
   ]
  },
  {
   "cell_type": "markdown",
   "metadata": {},
   "source": [
    "Ao analisar os resultados, notamos as seguintes observações:\n",
    "\n",
    "**Retirada de Outliers**: A estratégia de manusear outliers, eliminando-os, resultou em erro reduzido, evidenciando uma melhoria significativa na precisão das previsões do modelo. Isso pode ser interpretado como uma indicação de que, ao se abster de considerar os outliers, o modelo foca em tendências mais centrais dos dados. Entretanto, esta abordagem pode comprometer a capacidade do modelo de generalizar para casos mais extremos, uma vez que informações críticas podem ter sido descartadas.\n",
    "\n",
    "**Retirada da Blach-Friday**: Diferentemente, a exclusão de dados relativos às semanas de Black Friday levou a um aumento nos erros de previsão, sinalizando uma perda de precisão. Surpreendentemente, o Erro Quadrático Médio (MSE) revelou-se substancialmente elevado, indicando que o modelo conseguiu assimilar uma amplitude maior da variabilidade intrínseca aos dados. Este fenômeno sugere que, apesar do modelo manifestar imprecisões maiores em certos pontos, sua capacidade de ajuste a diversas condições é notavelmente superior, possivelmente devido à inclusão de uma gama mais vasta de informações. Este ajuste mais amplo poderia ser interpretado como um reflexo de sua habilidade em processar e ajustar-se a uma diversidade maior de padrões e tendências presentes nos dados, oferecendo assim um retrato mais holístico e inclusivo das dinâmicas subjacentes. Isso pode ser crucial quando as previsões precisam abranger uma variedade mais extensa de cenários e condições.\n",
    "\n",
    "**Justificativa da ausência do R²**: O coeficiente de determinação, r², comumente usado em modelos de regressão linear para avaliar a proporção da variância explicada pelo modelo, não é coletado no modelo Prophet devido às suas peculiaridades. O Prophet é projetado especificamente para séries temporais, focando em componentes de tendência e sazonalidade e em captar efeitos de eventos especiais e feriados, diferindo substancialmente dos modelos de regressão tradicionais onde o R² é aplicável. Este modelo prioriza a geração de previsões ponto a ponto e intervalos de confiança, com ênfase na adaptação a padrões não-lineares e anomalias, tornando outras métricas, como o Erro Médio Absoluto (MAE) e o Erro Quadrático Médio (MSE), mais pertinentes para avaliar sua precisão e adequação aos dados. Portanto, a ausência de R² no Prophet é justificada pela utilização de métricas de erro mais alinhadas aos objetivos de modelagem de séries temporais.\n",
    "\n",
    "**Justificativa da ausência de ferramentas de otimização de hiperparâmetros (gridsearch e randomsearch)**: A não implementação de ferramentas de otimização, como RandomSearch e GridSearch, neste notebook decorre das limitações inerentes ao modelo Prophet. Este modelo, especificamente desenvolvido para análises de séries temporais, não possui suporte nem requer a configuração de hiperparâmetros tradicionais, que seriam otimizados através dessas técnicas de busca. O Prophet é construído com o objetivo de oferecer uma solução robusta e eficiente com configurações padrão, minimizando a necessidade de ajustes manuais e otimizações extensivas. Sua concepção prioriza a praticidade e a aplicabilidade, permitindo análises de alta qualidade sem a necessidade de tunning extenso de parâmetros, o que elimina a aplicabilidade de métodos de otimização como RandomSearch e GridSearch no contexto deste modelo."
   ]
  },
  {
   "cell_type": "markdown",
   "metadata": {},
   "source": [
    "# Considerações Finais"
   ]
  },
  {
   "cell_type": "markdown",
   "metadata": {},
   "source": [
    "Após uma análise detalhada dos modelos em consideração (Random Forest, XGBoost e Prophet), chegamos à conclusão de que, em relação aos demais, o desempenho do modelo Prophet não obteve as melhores métricas de avaliação estabelecidos para este projeto. Devido a essas considerações, optamos por não escolher o Prophet como o modelo final."
   ]
  }
 ],
 "metadata": {
  "kernelspec": {
   "display_name": "Python 3",
   "language": "python",
   "name": "python3"
  },
  "language_info": {
   "codemirror_mode": {
    "name": "ipython",
    "version": 3
   },
   "file_extension": ".py",
   "mimetype": "text/x-python",
   "name": "python",
   "nbconvert_exporter": "python",
   "pygments_lexer": "ipython3",
   "version": "3.11.1"
  },
  "orig_nbformat": 4
 },
 "nbformat": 4,
 "nbformat_minor": 2
}
